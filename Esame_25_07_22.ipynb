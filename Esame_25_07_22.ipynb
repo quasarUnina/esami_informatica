{
 "cells": [
  {
   "cell_type": "markdown",
   "metadata": {},
   "source": [
    "# Esame Informatica\n",
    "## Prof. Acampora Giovanni\n",
    "___\n",
    "### 25/07/2022\n",
    "___"
   ]
  },
  {
   "cell_type": "markdown",
   "metadata": {},
   "source": [
    "### Esercizio 1 [ 8 Punti ] \n",
    "\n",
    "Scrivere una funzione Python “ToDecimal” che converte una stringa binaria in un numero decimale. Se la stringa non contiene solo zeri e uni bisogna lanciare un’eccezione. Inoltre, scrivere una funzione Python “DivisibleByTwoAndThree” che dato un numero decimale N restituisce se è divisibile per 2 e per 3. Infine, scrivere un breve main che legge una stringa di zeri e uni da tastiera, la converte in un numero decimale e stampa a video se questo numero è divisibile per 2 e per 3."
   ]
  },
  {
   "cell_type": "code",
   "execution_count": null,
   "metadata": {},
   "outputs": [],
   "source": []
  },
  {
   "cell_type": "markdown",
   "metadata": {},
   "source": [
    "### Esercizio 2 [ 12 Punti ] \n",
    "Scrivere il programma Python che permetta di definire due classi “Professor” e \"University\". La classe “Professor” ha i seguenti attributi: nome, cognome, età, tipologia (di default è la stringa “Full”). I metodi della classe “Professor” permettono di: \n",
    "\n",
    "   - inizializzare un oggetto della classe “Professor” con i suoi attributi; \n",
    "\n",
    "   - restituire in una stringa le informazioni relative ad un oggetto “Professor”; \n",
    "\n",
    "   - comparare l'età con quella di un altro oggetto “Professor” e restituire True se l'oggetto comparato ha una età minore. \n",
    "\n",
    "La classe “University” ha i seguenti attributi: nome, lista docenti. I metodi della classe “University” permettono di: \n",
    "\n",
    "   - inizializzare un oggetto della classe “University” con i suoi attributi; \n",
    "\n",
    "   - restituire il nome e cognome del docente più giovane.\n",
    "\n",
    "Scrivere, inoltre, un breve main che mostri il funzionamento dei metodi definiti. \n",
    "\n",
    " "
   ]
  },
  {
   "cell_type": "code",
   "execution_count": null,
   "metadata": {},
   "outputs": [],
   "source": []
  },
  {
   "cell_type": "markdown",
   "metadata": {},
   "source": [
    "### Esercizio 3 [ 10 Punti ] \n",
    "Scrivere il programma che: \n",
    "\n",
    "- legge il contenuto del file “data.txt”. Il file “data.txt” contiene due colonne di numeri reali. Ogni riga del file rappresenta un punto: la prima colonna è l’ascissa e la seconda colonna è l’ordinata.   \n",
    "\n",
    "- visualizza in rosso collegandoli con una linea i punti per i quali la somma tra ascissa e ordinata rappresenta un numero pari, mentre, visualizza in blu come punti isolati tutti gli altri punti; \n",
    "\n",
    "- visualizza sul plot con il simbolo “*” il punto ottenuto considerando il massimo valore tra le ascisse e il minimo valore tra le ordinate."
   ]
  },
  {
   "cell_type": "code",
   "execution_count": null,
   "metadata": {},
   "outputs": [],
   "source": []
  }
 ],
 "metadata": {
  "kernelspec": {
   "display_name": "Python 3",
   "language": "python",
   "name": "python3"
  },
  "language_info": {
   "codemirror_mode": {
    "name": "ipython",
    "version": 3
   },
   "file_extension": ".py",
   "mimetype": "text/x-python",
   "name": "python",
   "nbconvert_exporter": "python",
   "pygments_lexer": "ipython3",
   "version": "3.7.6"
  }
 },
 "nbformat": 4,
 "nbformat_minor": 4
}
