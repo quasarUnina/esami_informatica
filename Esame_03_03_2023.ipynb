{
 "cells": [
  {
   "cell_type": "markdown",
   "metadata": {},
   "source": [
    " # Esame Informatica\n",
    "## Prof. Acampora Giovanni\n",
    "___\n",
    "### 03/03/2023\n",
    "___"
   ]
  },
  {
   "cell_type": "markdown",
   "metadata": {},
   "source": [
    "### Esercizio 1 [ 8 Punti ] \n",
    "\n",
    "Scrivere una funzione Python che prenda in input una stringa l1 di caratteri. La funzione restituisce True se la stringa l1 è palindroma, ossia può essere letta da sinistra a destra e viceversa senza cambiare significato. Se la stringa l1 in input contiene un numero da 0 a 9 bisogna lanciare un’eccezione. Infine scrivere un breve main che legga una stringa e stampi a video se la stringa è palindroma."
   ]
  },
  {
   "cell_type": "code",
   "execution_count": null,
   "metadata": {},
   "outputs": [],
   "source": []
  },
  {
   "cell_type": "markdown",
   "metadata": {},
   "source": [
    "### Esercizio 2 [ 12 Punti ]\n",
    "\n",
    "Scrivere il programma Python che permette di definire una classe “Tempo”. I metodi della classe “Tempo” permettono di:\n",
    "-\tinizializzare un oggetto della classe “Tempo” con “ore” e “minuti”;\n",
    "-\trestituire in una stringa le ore e i minuti;\n",
    "-\trestituire il tempo in termini unicamente di minuti;\n",
    "-\tsommare le ore e i minuti con le ore e i minuti di un altro oggetto della classe “Tempo”.\n",
    "\n",
    "Scrivere, inoltre, un breve main che mostri il funzionamento dei metodi definiti.\n"
   ]
  },
  {
   "cell_type": "code",
   "execution_count": null,
   "metadata": {},
   "outputs": [],
   "source": []
  },
  {
   "cell_type": "markdown",
   "metadata": {},
   "source": [
    "### Esercizio 3 [ 10 Punti ] \n",
    "\n",
    "Scrivere il programma che: \n",
    "\n",
    "- legge il contenuto del file “data.txt”. Il file “data.txt” contiene due colonne di numeri reali. Ogni riga del file rappresenta un punto: la prima colonna è l’ascissa e la seconda colonna è l’ordinata.   \n",
    "\n",
    "- visualizza i punti in uno scatter plot con due diversi colori. In particolare, visualizza in verde i punti di cui la somma tra ascissa e ordinata è multipla di 3 e in blu tutti gli altri; \n",
    "\n",
    "- visualizza sul plot con il simbolo “*” il punto con l’ascissa minore e con il simbolo “+” il punto con l’ordinata maggiore. \n"
   ]
  },
  {
   "cell_type": "code",
   "execution_count": null,
   "metadata": {},
   "outputs": [],
   "source": []
  }
 ],
 "metadata": {
  "kernelspec": {
   "display_name": "Python 3",
   "language": "python",
   "name": "python3"
  },
  "language_info": {
   "codemirror_mode": {
    "name": "ipython",
    "version": 3
   },
   "file_extension": ".py",
   "mimetype": "text/x-python",
   "name": "python",
   "nbconvert_exporter": "python",
   "pygments_lexer": "ipython3",
   "version": "3.7.6"
  }
 },
 "nbformat": 4,
 "nbformat_minor": 4
}
