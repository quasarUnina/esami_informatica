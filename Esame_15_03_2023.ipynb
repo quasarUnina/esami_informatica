{
 "cells": [
  {
   "cell_type": "markdown",
   "metadata": {},
   "source": [
    " # Esame Informatica\n",
    "## Prof. Acampora Giovanni\n",
    "___\n",
    "### 15/03/2023\n",
    "___"
   ]
  },
  {
   "cell_type": "markdown",
   "metadata": {},
   "source": [
    "### Esercizio 1 [ 8 Punti ] \n",
    "\n",
    "Scrivere una funzione Python che prenda in input una stringa l1 di caratteri. La\n",
    "funzione restituisce l’elenco delle consonanti contenute nella stringa e la relativa\n",
    "frequenza. Se la stringa l1 in input contiene una vocale o uno spazio bisogna lanciare\n",
    "un’eccezione. Infine, scrivere un breve main che legga una stringa e stampi a video\n",
    "ogni consonante della stringa con la relativa frequenza"
   ]
  },
  {
   "cell_type": "code",
   "execution_count": null,
   "metadata": {},
   "outputs": [],
   "source": []
  },
  {
   "cell_type": "markdown",
   "metadata": {},
   "source": [
    "### Esercizio 2 [ 12 Punti ]\n",
    "\n",
    "Scrivere il programma Python che permetta di definire una classe “Articolo”. La classe \n",
    "“Articolo” ha i seguenti attributi: titolo, testo, tipologia (di default è la stringa \n",
    "“Scientifico”), lista di parole chiavi (vuota all’atto dell’inizializzazione). I metodi della \n",
    "classe “Articolo” permettono di:\n",
    "- inizializzare un oggetto della classe “Articolo” con i suoi attributi;\n",
    "- restituire in una stringa le informazioni relative ad un oggetto “Articolo”;\n",
    "- inserire la lista di parole chiavi (l’utente può inserire una parola chiave fino a \n",
    "quando non inserisce la parola “fine”);\n",
    "- comparare la lista di parole chiavi con quella di un altro oggetto della classe \n",
    "“Articolo” e restituire True se i due oggetti hanno una parola chiave in comune.\n",
    "\n",
    "Scrivere, inoltre, un breve main che mostri il funzionamento dei metodi definiti"
   ]
  },
  {
   "cell_type": "code",
   "execution_count": null,
   "metadata": {},
   "outputs": [],
   "source": []
  },
  {
   "cell_type": "markdown",
   "metadata": {},
   "source": [
    "### Esercizio 3 [ 10 Punti ] \n",
    "\n",
    "Scrivere il programma che:\n",
    "- legge il contenuto del file “data.txt”. Il file “data.txt” contiene quattro colonne di\n",
    "numeri reali. Ogni riga del file rappresenta due punti: la prima colonna e la\n",
    "seconda sono rispettivamente l’ascissa e l’ordinata del primo punto, mentre, la\n",
    "terza e la quarta colonna sono rispettivamente l’ascissa e l’ordinata del secondo\n",
    "punto.  I numeri sono separati da virgola.\n",
    "- Visualizzare, in uno scatter plot, i punti del primo insieme (quelli con ascissa e\n",
    "ordinata nella prima e seconda colonna) in blu e quelli del secondo insieme (con\n",
    "ascissa e ordinata nella terza e quarta colonna) in verde;\n",
    "- calcola i baricentri geometrici dei due insiemi di punti e li visualizza sul plot con\n",
    "il colore rosso e con il simbolo “*”. NOTA: il baricentro è il punto le cui\n",
    "coordinate sono date dalla media aritmetica delle rispettive coordinate dei"
   ]
  },
  {
   "cell_type": "code",
   "execution_count": null,
   "metadata": {},
   "outputs": [],
   "source": []
  }
 ],
 "metadata": {
  "kernelspec": {
   "display_name": "Python 3",
   "language": "python",
   "name": "python3"
  },
  "language_info": {
   "codemirror_mode": {
    "name": "ipython",
    "version": 3
   },
   "file_extension": ".py",
   "mimetype": "text/x-python",
   "name": "python",
   "nbconvert_exporter": "python",
   "pygments_lexer": "ipython3",
   "version": "3.7.6"
  }
 },
 "nbformat": 4,
 "nbformat_minor": 4
}
