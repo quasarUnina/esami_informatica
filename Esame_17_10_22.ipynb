{
 "cells": [
  {
   "cell_type": "markdown",
   "metadata": {},
   "source": [
    "# Esame Informatica\n",
    "## Prof. Acampora Giovanni\n",
    "___\n",
    "### 17/10/2022\n",
    "___"
   ]
  },
  {
   "cell_type": "markdown",
   "metadata": {},
   "source": [
    "### Esercizio 1 [ 8 Punti ] \n",
    "\n",
    "Scrivere una funzione Python che prenda in input una stringa l1 di caratteri. La funzione restituisce una nuova stringa dove ogni carattere è sostituito dal carattere in posizione +3 nell'alfabeto italiano (ad esempio la stringa \"ADB\" diviene \"DGE\"). Se la stringa l1 in input contiene un numero o uno spazio bisogna lanciare un’eccezione. Infine, scrivere un breve main che legga una stringa e stampi a video la stringa convertita. "
   ]
  },
  {
   "cell_type": "code",
   "execution_count": null,
   "metadata": {},
   "outputs": [],
   "source": []
  },
  {
   "cell_type": "markdown",
   "metadata": {},
   "source": [
    "### Esercizio 2 [ 12 Punti ] \n",
    "\n",
    "Scrivere il programma Python che permetta di definire una classe \"Libro\". La classe \"Libro\" ha i seguenti attributi: titolo, nome dell'autore, prezzo. I metodi della classe “Libro” permettono di: \n",
    "\n",
    "- inizializzare un oggetto della classe “Libro” con i suoi attributi; \n",
    "\n",
    "- restituire in una stringa le informazioni relative ad un oggetto “Libro”;\n",
    "\n",
    "- comparare il libro con un altro dato in input in termini di prezzo. In dettaglio, il metodo restituisce True se il libro comparato ha un prezzo più alto, False altrimenti.\n",
    "\n",
    "Scrivere poi una classe \"Libreria\", che rappresenti un insieme di libri tramite una lista di tipo \"Libro\". I metodi della classe “Libreria” permettono di: \n",
    "\n",
    "- inizializzare un oggetto della classe “Libreria” con una lista di libri vuota; \n",
    "\n",
    "- restituire il numero di libri contenuti nella libreria dato il nome dell'autore; \n",
    "\n",
    "Scrivere, inoltre, un breve main che mostri il funzionamento dei metodi definiti. \n",
    "\n",
    " "
   ]
  },
  {
   "cell_type": "code",
   "execution_count": null,
   "metadata": {},
   "outputs": [],
   "source": []
  },
  {
   "cell_type": "code",
   "execution_count": null,
   "metadata": {},
   "outputs": [],
   "source": []
  },
  {
   "cell_type": "markdown",
   "metadata": {},
   "source": [
    "### Esercizio 3 [ 10 Punti ] \n",
    "\n",
    "Scrivere il programma che:\n",
    "-\tlegge il contenuto del file “data.txt”. Il file “data.txt” contiene quattro colonne di numeri reali. Ogni riga del file rappresenta due punti: la prima colonna e la seconda sono rispettivamente le ascisse dei due punti, mentre, la terza e la quarta colonna sono rispettivamente le ordinate dei due punti.  I numeri sono separati da virgola.\n",
    "-\tVisualizzare, in uno scatter plot, i punti del primo insieme (quelli con ascissa e ordinata nella prima e seconda colonna) in blu e quelli del secondo insieme (con ascissa e ordinata nella terza e quarta colonna) in verde;\n",
    "-\tcalcola tra i punti del primo insieme, il punto più vicino al punto (0,0) e lo visualizza con il simbolo “*”. Fare lo stesso anche con i punti del secondo insieme.\n",
    "\n",
    "\n",
    "\n",
    " "
   ]
  },
  {
   "cell_type": "code",
   "execution_count": null,
   "metadata": {},
   "outputs": [],
   "source": []
  }
 ],
 "metadata": {
  "kernelspec": {
   "display_name": "quantum",
   "language": "python",
   "name": "quantum"
  },
  "language_info": {
   "codemirror_mode": {
    "name": "ipython",
    "version": 3
   },
   "file_extension": ".py",
   "mimetype": "text/x-python",
   "name": "python",
   "nbconvert_exporter": "python",
   "pygments_lexer": "ipython3",
   "version": "3.7.6"
  }
 },
 "nbformat": 4,
 "nbformat_minor": 4
}
