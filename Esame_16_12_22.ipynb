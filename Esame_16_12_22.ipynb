{
 "cells": [
  {
   "cell_type": "markdown",
   "metadata": {},
   "source": [
    "# Esame Informatica\n",
    "## Prof. Acampora Giovanni\n",
    "___\n",
    "### 16/12/2022\n",
    "___"
   ]
  },
  {
   "cell_type": "markdown",
   "metadata": {},
   "source": [
    "### Esercizio 1 [ 8 Punti ] \n",
    "\n",
    "Scrivere una funzione Python che prenda in input due liste l1 e l2 di numeri. La funzione restituisce una lista l3 con i numeri contenuti nella prima lista l1 ma non nella seconda l2. Se le liste in input l1 e l2 contengono un carattere, la funzione lancia un’eccezione. Infine, scrivere un breve main che legga due liste e stampi a video la lista rappresentante la differenza tra la prima e la seconda."
   ]
  },
  {
   "cell_type": "code",
   "execution_count": null,
   "metadata": {},
   "outputs": [],
   "source": []
  },
  {
   "cell_type": "markdown",
   "metadata": {},
   "source": [
    "### Esercizio 2 [ 12 Punti ] \n",
    "\n",
    "Scrivere il programma Python che permetta di definire una classe “Veicolo”. La classe “Veicolo” ha i seguenti attributi: targa, tipologia di carburante (di default “Benzina”), prezzo in euro. La classe “Veicolo” ha solo un metodo per inizializzare i suoi attributi. Definire, poi, una classe “Auto” come sottoclasse della classe “Veicolo” con i seguenti attributi: numero di porte, cambio manuale (di default a “True”), consumo di carburante (quanti litri di carburante per percorrere 1 Km). I metodi della classe “Auto” permettono di:\n",
    "-\tinizializzare un oggetto della classe “Auto” con i suoi attributi;\n",
    "-\trestituire in una stringa tutte le informazioni relative ad un oggetto “Auto”;\n",
    "-\trestituire i litri di benzina necessari per percorrere un percorso di cui sono noti i chilometri;\n",
    "-\tcomparare il prezzo con quello di un altro oggetto della classe “Auto” e restituire True se l’oggetto comparato è più economico.\n",
    "Scrivere, inoltre, un breve main che mostri il funzionamento dei metodi definiti.\n",
    "\n"
   ]
  },
  {
   "cell_type": "code",
   "execution_count": null,
   "metadata": {},
   "outputs": [],
   "source": []
  },
  {
   "cell_type": "markdown",
   "metadata": {},
   "source": [
    "### Esercizio 3 [ 10 Punti ] \n",
    "\n",
    "Scrivere il programma che:\n",
    "-\tlegge il contenuto del file “data.txt”. Il file “data.txt” contiene quattro colonne di numeri reali. Ogni riga del file rappresenta due punti: la prima colonna e la seconda sono rispettivamente l’ascissa e l’ordinata del primo punto, mentre, la terza e la quarta colonna sono rispettivamente l’ascissa e l’ordinata del secondo punto.  I numeri sono separati da virgola.\n",
    "-\tVisualizzare, in uno scatter plot, i punti del primo insieme (quelli con ascissa e ordinata nella prima e seconda colonna) in blu e quelli del secondo insieme (con ascissa e ordinata nella terza e quarta colonna) in verde;\n",
    "-\tcalcola i baricentri geometrici dei due insiemi di punti e li visualizza sul plot con il colore rosso e con il simbolo “*”. NOTA: il baricentro è il punto le cui coordinate sono date dalla media aritmetica delle rispettive coordinate dei punti.\n",
    "\n"
   ]
  },
  {
   "cell_type": "code",
   "execution_count": null,
   "metadata": {},
   "outputs": [],
   "source": []
  }
 ],
 "metadata": {
  "kernelspec": {
   "display_name": "quantum",
   "language": "python",
   "name": "quantum"
  },
  "language_info": {
   "codemirror_mode": {
    "name": "ipython",
    "version": 3
   },
   "file_extension": ".py",
   "mimetype": "text/x-python",
   "name": "python",
   "nbconvert_exporter": "python",
   "pygments_lexer": "ipython3",
   "version": "3.7.6"
  }
 },
 "nbformat": 4,
 "nbformat_minor": 4
}
